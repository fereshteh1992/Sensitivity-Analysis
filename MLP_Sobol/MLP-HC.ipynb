{
 "cells": [
  {
   "cell_type": "code",
   "execution_count": 1,
   "id": "2091f0c7",
   "metadata": {},
   "outputs": [],
   "source": [
    "import pandas as pd\n",
    "import sklearn\n",
    "from sklearn import preprocessing\n",
    "from sklearn.model_selection import train_test_split \n",
    "from sklearn.preprocessing import StandardScaler  \n",
    "from sklearn.neural_network import MLPRegressor\n",
    "from sklearn.metrics import r2_score"
   ]
  },
  {
   "cell_type": "code",
   "execution_count": 3,
   "id": "8f3080c9",
   "metadata": {},
   "outputs": [
    {
     "name": "stdout",
     "output_type": "stream",
     "text": [
      "      0.419730  0.536310  0.034265  0.867833\n",
      "0     0.565276  0.439426  0.033581  0.538838\n",
      "1     0.515454  0.527717  0.013967  1.010256\n",
      "2     0.481304  0.407117  0.029862  0.784468\n",
      "3     0.447211  0.549859  0.012617  0.828161\n",
      "4     0.469583  0.492468  0.010423  1.020316\n",
      "...        ...       ...       ...       ...\n",
      "9994  0.408795  0.477987  0.038399  0.559415\n",
      "9995  0.521147  0.474584  0.037316  0.765663\n",
      "9996  0.561610  0.469379  0.028298  0.739597\n",
      "9997  0.480999  0.445957  0.028666  1.029609\n",
      "9998  0.402400  0.542921  0.034567  0.989971\n",
      "\n",
      "[9999 rows x 4 columns]\n",
      "      4.109213\n",
      "0     0.427889\n",
      "1     0.247705\n",
      "2     1.045692\n",
      "3     0.142780\n",
      "4     0.145238\n",
      "...        ...\n",
      "9994  2.314033\n",
      "9995  1.571243\n",
      "9996  0.479050\n",
      "9997  2.762539\n",
      "9998  8.384488\n",
      "\n",
      "[9999 rows x 1 columns]\n"
     ]
    }
   ],
   "source": [
    "input = pd.read_excel('input_G2.xlsx')\n",
    "print(input)\n",
    "evaluation = pd.read_excel('stiffness_G2.xlsx')\n",
    "print(evaluation)"
   ]
  },
  {
   "cell_type": "code",
   "execution_count": 4,
   "id": "fc55ee1d",
   "metadata": {},
   "outputs": [],
   "source": [
    "# split data (80% of  dataset into  training set and  other 20% into test data)\n",
    "X1_train, X1_test, y1_train, y1_test = train_test_split(input, evaluation, test_size = 0.2,random_state=0, shuffle=False)  #480 training and 120 testing datasets\n",
    "#print(X1_train)      #type= pandas.core.frame.DataFrame"
   ]
  },
  {
   "cell_type": "code",
   "execution_count": 5,
   "id": "1b496dd9",
   "metadata": {},
   "outputs": [
    {
     "name": "stderr",
     "output_type": "stream",
     "text": [
      "C:\\tools\\Anaconda3\\lib\\site-packages\\sklearn\\utils\\validation.py:1688: FutureWarning: Feature names only support names that are all strings. Got feature names with dtypes: ['float']. An error will be raised in 1.2.\n",
      "  warnings.warn(\n",
      "C:\\tools\\Anaconda3\\lib\\site-packages\\sklearn\\utils\\validation.py:1688: FutureWarning: Feature names only support names that are all strings. Got feature names with dtypes: ['float']. An error will be raised in 1.2.\n",
      "  warnings.warn(\n",
      "C:\\tools\\Anaconda3\\lib\\site-packages\\sklearn\\utils\\validation.py:1688: FutureWarning: Feature names only support names that are all strings. Got feature names with dtypes: ['float']. An error will be raised in 1.2.\n",
      "  warnings.warn(\n"
     ]
    }
   ],
   "source": [
    "# Feature scaling\n",
    "scaler = StandardScaler()  \n",
    "\n",
    "X1s_train = scaler.fit_transform(X1_train)  # numpy.ndarray\n",
    "X1s_test = scaler.transform(X1_test)    # numpy.ndarray"
   ]
  },
  {
   "cell_type": "code",
   "execution_count": 7,
   "id": "aa399347",
   "metadata": {},
   "outputs": [
    {
     "data": {
      "text/plain": [
       "MLPRegressor(activation='tanh', hidden_layer_sizes=(40, 40, 40),\n",
       "             learning_rate='adaptive', max_iter=1000)"
      ]
     },
     "execution_count": 7,
     "metadata": {},
     "output_type": "execute_result"
    }
   ],
   "source": [
    "# MLP- Multilayer Perceptron\n",
    "mlp = MLPRegressor(hidden_layer_sizes=(40,40,40), max_iter=1000, batch_size='auto',learning_rate_init=0.001, learning_rate='adaptive',solver='adam', activation='tanh')  \n",
    "mlp.fit(X1s_train, y1_train.values.ravel())"
   ]
  },
  {
   "cell_type": "code",
   "execution_count": 8,
   "id": "1d08687e",
   "metadata": {},
   "outputs": [],
   "source": [
    "predictions1 = mlp.predict(X1s_test) "
   ]
  },
  {
   "cell_type": "code",
   "execution_count": 9,
   "id": "a522dae3",
   "metadata": {},
   "outputs": [
    {
     "name": "stdout",
     "output_type": "stream",
     "text": [
      "0.997452281116191\n"
     ]
    }
   ],
   "source": [
    "# Evaluation of algorithm performance\n",
    "\n",
    "r2=r2_score(y1_test, predictions1)\n",
    "print(r2)"
   ]
  },
  {
   "cell_type": "code",
   "execution_count": 10,
   "id": "bda43c83",
   "metadata": {},
   "outputs": [
    {
     "data": {
      "text/plain": [
       "array([4.48819223])"
      ]
     },
     "execution_count": 10,
     "metadata": {},
     "output_type": "execute_result"
    }
   ],
   "source": [
    "# TEST A RANDOM ARRAY\n",
    "# l=0.5, h=0.5 , t=0.06 , theta=0.6 ; note that t is outside train range\n",
    "import numpy as np\n",
    "test_array= np.array([0.5, 0.5, 0.06, 0.6]).reshape(1, -1)\n",
    "test_array=scaler.transform(test_array)\n",
    "\n",
    "test_array=test_array\n",
    "#test_array.shape\n",
    "\n",
    "val_test= mlp.predict(test_array) \n",
    "val_test"
   ]
  },
  {
   "cell_type": "code",
   "execution_count": 21,
   "id": "63ea7c7a",
   "metadata": {},
   "outputs": [
    {
     "name": "stderr",
     "output_type": "stream",
     "text": [
      "C:\\Users\\fhassani\\AppData\\Local\\Temp\\ipykernel_22532\\369149270.py:13: DeprecationWarning: `salib.sample.saltelli` will be removed in SALib 1.5.1 Please use `salib.sample.sobol`\n",
      "  param_values = saltelli.sample(problem, 10000, calc_second_order = True)\n",
      "C:\\Users\\fhassani\\AppData\\Roaming\\Python\\Python39\\site-packages\\SALib\\sample\\saltelli.py:110: UserWarning: \n",
      "        Convergence properties of the Sobol' sequence is only valid if\n",
      "        `N` (10000) is equal to `2^n`.\n",
      "        \n",
      "  warnings.warn(msg)\n"
     ]
    }
   ],
   "source": [
    "from SALib.sample import saltelli\n",
    "from SALib.analyze import sobol\n",
    "\n",
    "\n",
    "problem = {\n",
    "    'num_vars': 4,\n",
    "    'names': ['l','h','t','theta'],\n",
    "    'bounds': [[-1,1]*4]\n",
    "}\n",
    "\n",
    "#If `calc_second_order` is False, the resulting matrix has ``N * (D + 2)`` rows, \n",
    "#where ``D`` is the number of parameters. If `calc_second_order` is `True`, the resulting matrix has ``N * (2D + 2)`` rows.\n",
    "param_values = saltelli.sample(problem, 10000, calc_second_order = True)    "
   ]
  },
  {
   "cell_type": "code",
   "execution_count": 24,
   "id": "58dcaad8",
   "metadata": {},
   "outputs": [
    {
     "name": "stderr",
     "output_type": "stream",
     "text": [
      "C:\\Users\\fhassani\\AppData\\Roaming\\Python\\Python39\\site-packages\\SALib\\util\\__init__.py:274: FutureWarning: unique with argument that is not not a Series, Index, ExtensionArray, or np.ndarray is deprecated and will raise in a future version.\n",
      "  names = list(pd.unique(groups))\n"
     ]
    }
   ],
   "source": [
    "Y = np.zeros([param_values.shape[0]])\n",
    "Y = mlp.predict(param_values)    \n",
    "\n",
    "# Perform Sobol Analysis\n",
    "Si = sobol.analyze(problem, Y)     \n"
   ]
  },
  {
   "cell_type": "code",
   "execution_count": 25,
   "id": "5b2bfd09",
   "metadata": {},
   "outputs": [
    {
     "name": "stderr",
     "output_type": "stream",
     "text": [
      "C:\\Users\\fhassani\\AppData\\Roaming\\Python\\Python39\\site-packages\\SALib\\util\\__init__.py:274: FutureWarning: unique with argument that is not not a Series, Index, ExtensionArray, or np.ndarray is deprecated and will raise in a future version.\n",
      "  names = list(pd.unique(groups))\n"
     ]
    },
    {
     "name": "stdout",
     "output_type": "stream",
     "text": [
      "[             ST   ST_conf\n",
      "l      0.158442  0.007330\n",
      "h      0.004355  0.000232\n",
      "t      0.706680  0.026737\n",
      "theta  0.243225  0.010664,              S1   S1_conf\n",
      "l      0.108809  0.010466\n",
      "h      0.002871  0.001616\n",
      "t      0.607394  0.021944\n",
      "theta  0.173273  0.013825,                   S2   S2_conf\n",
      "(l, h)     -0.000427  0.015998\n",
      "(l, t)      0.035318  0.021144\n",
      "(l, theta)  0.009004  0.019814\n",
      "(h, t)      0.000697  0.003687\n",
      "(h, theta) -0.000290  0.002988\n",
      "(t, theta)  0.056566  0.032998]\n"
     ]
    },
    {
     "data": {
      "image/png": "[encoded data removed]",
      "text/plain": [
       "<Figure size 640x480 with 3 Axes>"
      ]
     },
     "metadata": {},
     "output_type": "display_data"
    }
   ],
   "source": [
    "# Turn output to a Pandas DataFrame for further analysis\n",
    "total_Si, first_Si, second_Si = Si.to_df()\n",
    "Si.plot()\n",
    "print(Si.to_df())"
   ]
  },
  {
   "cell_type": "code",
   "execution_count": null,
   "id": "e051037b",
   "metadata": {},
   "outputs": [],
   "source": []
  }
 ],
 "metadata": {
  "kernelspec": {
   "display_name": "Python 3 (ipykernel)",
   "language": "python",
   "name": "python3"
  },
  "language_info": {
   "codemirror_mode": {
    "name": "ipython",
    "version": 3
   },
   "file_extension": ".py",
   "mimetype": "text/x-python",
   "name": "python",
   "nbconvert_exporter": "python",
   "pygments_lexer": "ipython3",
   "version": "3.9.13"
  }
 },
 "nbformat": 4,
 "nbformat_minor": 5
}
