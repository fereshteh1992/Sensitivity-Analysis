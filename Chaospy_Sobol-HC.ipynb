{
 "cells": [
  {
   "cell_type": "code",
   "execution_count": null,
   "id": "d6b72877",
   "metadata": {
    "scrolled": true
   },
   "outputs": [
    {
     "name": "stdout",
     "output_type": "stream",
     "text": [
      "Defaulting to user installation because normal site-packages is not writeable\n",
      "Requirement already satisfied: chaospy in c:\\users\\fhassani\\appdata\\roaming\\python\\python39\\site-packages (4.3.17)\n",
      "Requirement already satisfied: setuptools>=40.9.0 in c:\\tools\\anaconda3\\lib\\site-packages (from chaospy) (63.4.1)\n",
      "Requirement already satisfied: importlib-metadata in c:\\tools\\anaconda3\\lib\\site-packages (from chaospy) (4.11.3)\n",
      "Requirement already satisfied: numpoly>=1.2.12 in c:\\users\\fhassani\\appdata\\roaming\\python\\python39\\site-packages (from chaospy) (1.3.6)\n",
      "Requirement already satisfied: numpy>=1.20 in c:\\users\\fhassani\\appdata\\roaming\\python\\python39\\site-packages (from chaospy) (2.0.2)\n",
      "Requirement already satisfied: scipy in c:\\users\\fhassani\\appdata\\roaming\\python\\python39\\site-packages (from chaospy) (1.13.1)\n",
      "Requirement already satisfied: zipp>=0.5 in c:\\tools\\anaconda3\\lib\\site-packages (from importlib-metadata->chaospy) (3.8.0)\n",
      "Defaulting to user installation because normal site-packages is not writeable\n",
      "Requirement already satisfied: numpy in c:\\users\\fhassani\\appdata\\roaming\\python\\python39\\site-packages (2.0.2)\n",
      "Defaulting to user installation because normal site-packages is not writeable\n",
      "Requirement already satisfied: numpoly in c:\\users\\fhassani\\appdata\\roaming\\python\\python39\\site-packages (1.3.6)\n",
      "Requirement already satisfied: chaospy in c:\\users\\fhassani\\appdata\\roaming\\python\\python39\\site-packages (4.3.17)\n",
      "Requirement already satisfied: importlib-metadata in c:\\tools\\anaconda3\\lib\\site-packages (from numpoly) (4.11.3)\n",
      "Requirement already satisfied: numpy>=2.0 in c:\\users\\fhassani\\appdata\\roaming\\python\\python39\\site-packages (from numpoly) (2.0.2)\n",
      "Requirement already satisfied: setuptools>=40.9.0 in c:\\tools\\anaconda3\\lib\\site-packages (from numpoly) (63.4.1)\n",
      "Requirement already satisfied: scipy in c:\\users\\fhassani\\appdata\\roaming\\python\\python39\\site-packages (from chaospy) (1.13.1)\n",
      "Requirement already satisfied: zipp>=0.5 in c:\\tools\\anaconda3\\lib\\site-packages (from importlib-metadata->numpoly) (3.8.0)\n"
     ]
    }
   ],
   "source": [
    "#!pip install chaospy\n",
    "#!pip install numpy\n",
    "#!pip install --tupgrade numpoly chaospy\n",
    "#!pip uninstall openpyxl\n",
    "#!pip install openpyxl\n",
    "\n",
    "#!pip uninstall numpy\n",
    "#!pip install numpy==1.20"
   ]
  },
  {
   "cell_type": "code",
   "execution_count": 19,
   "id": "f956af98",
   "metadata": {},
   "outputs": [
    {
     "name": "stdout",
     "output_type": "stream",
     "text": [
      "[[0.06360948 0.05798928 0.0610973 ]\n",
      " [0.77047908 0.7123802  0.68360694]]\n",
      "[23.63981414 18.89030302 22.63318246]\n"
     ]
    }
   ],
   "source": [
    "dff = pd.read_excel('input_G.xlsx')\n",
    "arr = dff.to_numpy()\n",
    "sample = arr.T\n",
    "# Stochastic dimension (number of variables sampled)\n",
    "dd = sample.shape[0]\n",
    "\n",
    "# Number of samples\n",
    "num_samp = sample.shape[1]\n",
    "\n",
    "evaluation = pd.read_excel('stiffness_G.xlsx')\n",
    "evaluation = np.reshape(evaluation, -1) \n",
    "print(sample[:,0:3])\n",
    "print(evaluation[0:3])\n"
   ]
  },
  {
   "cell_type": "code",
   "execution_count": 22,
   "id": "713c240d",
   "metadata": {},
   "outputs": [],
   "source": [
    "from scipy.io import loadmat\n",
    "import spgl1 as spg\n",
    "import numpy as np\n",
    "import pandas as pd\n",
    "from matplotlib import pyplot\n",
    "import chaospy as cp "
   ]
  },
  {
   "cell_type": "code",
   "execution_count": 5,
   "id": "a2bff003",
   "metadata": {},
   "outputs": [
    {
     "data": {
      "text/plain": [
       "array([[-1., -1., -1., -1., -1., -1.],\n",
       "       [ 1.,  1.,  1.,  1.,  1.,  1.]])"
      ]
     },
     "execution_count": 5,
     "metadata": {},
     "output_type": "execute_result"
    }
   ],
   "source": [
    "# from sklearn.preprocessing import StandardScaler\n",
    "# scaler= StandardScaler ()\n",
    "# standardized_sample= scaler.fit_transform(sample)\n",
    "\n",
    "# sample=standardized_sample\n",
    "\n",
    "# df= pd.DataFrame (standardized_sample)\n",
    "# standardized_sample[:,0:6]\n"
   ]
  },
  {
   "cell_type": "code",
   "execution_count": 23,
   "id": "e1df8735",
   "metadata": {},
   "outputs": [
    {
     "data": {
      "text/plain": [
       "chaospy.distributions.operators.iid.Iid"
      ]
     },
     "execution_count": 23,
     "metadata": {},
     "output_type": "execute_result"
    }
   ],
   "source": [
    "## Set up distribtion\n",
    "dist_uniform = cp.Uniform(0,1)\n",
    "\n",
    "# sample parameters as uniform distribution\n",
    "dist = cp.Iid(dist_uniform,dd)\n",
    "type(dist)"
   ]
  },
  {
   "cell_type": "code",
   "execution_count": 24,
   "id": "2e971c09",
   "metadata": {},
   "outputs": [],
   "source": [
    "# Choose polynomial order\n",
    "poly_order = 3\n",
    "\n",
    "# Construct PC expansion \n",
    "#poly_expansion = cp.orth_ttr(poly_order, dist)\n",
    "poly_expansion = cp.expansion.stieltjes(poly_order, dist)\n",
    "\n",
    "## Fit pc expansion to data. Chaospy default is least squares.\n",
    "model_appr_cp = cp.fit_regression(poly_expansion, sample[:,0:12000], evaluation[0:12000])"
   ]
  },
  {
   "cell_type": "code",
   "execution_count": 25,
   "id": "b15d517e",
   "metadata": {},
   "outputs": [
    {
     "name": "stdout",
     "output_type": "stream",
     "text": [
      "(12000, 10)\n",
      "(10, 10)\n",
      "(12000,)\n"
     ]
    }
   ],
   "source": [
    "# Calculate PC coefficients and compute validation error\n",
    "phi_1 = poly_expansion(*sample[:,0:12000]).T\n",
    "print(phi_1.shape)\n",
    "ptp_1 = phi_1.T @ phi_1\n",
    "print(ptp_1.shape)\n",
    "pty_1 = phi_1.T @ evaluation[0:12000]\n",
    "print(evaluation[0:12000].shape)\n",
    "c_hat_1 = np.linalg.inv(ptp_1) @ pty_1 \n"
   ]
  },
  {
   "cell_type": "code",
   "execution_count": 26,
   "id": "84f49b18",
   "metadata": {},
   "outputs": [
    {
     "name": "stdout",
     "output_type": "stream",
     "text": [
      "0.00024688121552078694\n"
     ]
    }
   ],
   "source": [
    "# Calculate PC coefficients and compute validation error\n",
    "phi_1 = poly_expansion(*sample[:,0:12000]).T\n",
    "ptp_1 = phi_1.T @ phi_1\n",
    "pty_1 = phi_1.T @ evaluation[0:12000]\n",
    "c_hat_1 = np.linalg.inv(ptp_1) @ pty_1   \n",
    "\n",
    "\n",
    "# validation error\n",
    "phi_val_1 = poly_expansion(*sample[:,12000:]).T\n",
    "val_est_1 = phi_val_1 @ c_hat_1      #equivalent to: val_test=model_appr_cp(*sample[:,12000:]).T\n",
    "\n",
    "val_error_1 = np.linalg.norm(evaluation[12000:] - val_est_1)/np.linalg.norm(evaluation[12000:]) \n",
    "print(val_error_1)"
   ]
  },
  {
   "cell_type": "code",
   "execution_count": 27,
   "id": "a65b9b6f",
   "metadata": {},
   "outputs": [
    {
     "name": "stdout",
     "output_type": "stream",
     "text": [
      "(6144, 2)\n",
      "<class 'numpy.ndarray'>\n"
     ]
    },
    {
     "name": "stderr",
     "output_type": "stream",
     "text": [
      "C:\\Users\\fhassani\\AppData\\Local\\Temp\\ipykernel_26684\\3470853645.py:11: DeprecationWarning: `salib.sample.saltelli` will be removed in SALib 1.5.1 Please use `salib.sample.sobol`\n",
      "  param_values = saltelli.sample(problem, 1024)\n"
     ]
    }
   ],
   "source": [
    "from SALib.sample import saltelli\n",
    "from SALib.analyze import sobol\n",
    "from SALib.test_functions import Ishigami\n",
    "problem = {\n",
    "    'num_vars': 2,\n",
    "    'names': ['t','theta'],\n",
    "    'bounds': [[0, 1]]*2\n",
    "}\n",
    "\n",
    "\n",
    "param_values = saltelli.sample(problem, 1024)    \n"
   ]
  },
  {
   "cell_type": "code",
   "execution_count": 29,
   "id": "72b00f6e",
   "metadata": {},
   "outputs": [
    {
     "name": "stderr",
     "output_type": "stream",
     "text": [
      "C:\\Users\\fhassani\\AppData\\Roaming\\Python\\Python39\\site-packages\\SALib\\util\\__init__.py:274: FutureWarning: unique with argument that is not not a Series, Index, ExtensionArray, or np.ndarray is deprecated and will raise in a future version.\n",
      "  names = list(pd.unique(groups))\n"
     ]
    }
   ],
   "source": [
    "Y = np.zeros([param_values.shape[0]])\n",
    "Y = model_appr_cp(*param_values.T)    \n",
    "\n",
    "# Perform Sobol Analysis\n",
    "Si = sobol.analyze(problem, Y)     \n"
   ]
  },
  {
   "cell_type": "code",
   "execution_count": 30,
   "id": "d2cac42e",
   "metadata": {},
   "outputs": [
    {
     "name": "stderr",
     "output_type": "stream",
     "text": [
      "C:\\Users\\fhassani\\AppData\\Roaming\\Python\\Python39\\site-packages\\SALib\\util\\__init__.py:274: FutureWarning: unique with argument that is not not a Series, Index, ExtensionArray, or np.ndarray is deprecated and will raise in a future version.\n",
      "  names = list(pd.unique(groups))\n"
     ]
    },
    {
     "name": "stdout",
     "output_type": "stream",
     "text": [
      "[             ST   ST_conf\n",
      "t      0.998163  0.054999\n",
      "theta  0.004046  0.000618,              S1  S1_conf\n",
      "t      0.996075  0.09270\n",
      "theta  0.002399  0.00526,                   S2   S2_conf\n",
      "[t, theta]  0.001651  0.133111]\n"
     ]
    },
    {
     "data": {
      "image/png": "[encoded data removed]",
      "text/plain": [
       "<Figure size 640x480 with 3 Axes>"
      ]
     },
     "metadata": {},
     "output_type": "display_data"
    }
   ],
   "source": [
    "# Turn output to a Pandas DataFrame for further analysis\n",
    "total_Si, first_Si, second_Si = Si.to_df()\n",
    "Si.plot()\n",
    "print(Si.to_df())"
   ]
  },
  {
   "cell_type": "code",
   "execution_count": null,
   "id": "45a4aad6",
   "metadata": {},
   "outputs": [],
   "source": []
  }
 ],
 "metadata": {
  "kernelspec": {
   "display_name": "Python 3 (ipykernel)",
   "language": "python",
   "name": "python3"
  },
  "language_info": {
   "codemirror_mode": {
    "name": "ipython",
    "version": 3
   },
   "file_extension": ".py",
   "mimetype": "text/x-python",
   "name": "python",
   "nbconvert_exporter": "python",
   "pygments_lexer": "ipython3",
   "version": "3.9.13"
  }
 },
 "nbformat": 4,
 "nbformat_minor": 5
}
