{
 "cells": [
  {
   "cell_type": "code",
   "execution_count": null,
   "id": "d6b72877",
   "metadata": {
    "scrolled": true
   },
   "outputs": [
    {
     "name": "stdout",
     "output_type": "stream",
     "text": [
      "Defaulting to user installation because normal site-packages is not writeable\n",
      "Requirement already satisfied: chaospy in c:\\users\\fhassani\\appdata\\roaming\\python\\python39\\site-packages (4.3.17)\n",
      "Requirement already satisfied: setuptools>=40.9.0 in c:\\tools\\anaconda3\\lib\\site-packages (from chaospy) (63.4.1)\n",
      "Requirement already satisfied: importlib-metadata in c:\\tools\\anaconda3\\lib\\site-packages (from chaospy) (4.11.3)\n",
      "Requirement already satisfied: numpoly>=1.2.12 in c:\\users\\fhassani\\appdata\\roaming\\python\\python39\\site-packages (from chaospy) (1.3.6)\n",
      "Requirement already satisfied: numpy>=1.20 in c:\\users\\fhassani\\appdata\\roaming\\python\\python39\\site-packages (from chaospy) (2.0.2)\n",
      "Requirement already satisfied: scipy in c:\\users\\fhassani\\appdata\\roaming\\python\\python39\\site-packages (from chaospy) (1.13.1)\n",
      "Requirement already satisfied: zipp>=0.5 in c:\\tools\\anaconda3\\lib\\site-packages (from importlib-metadata->chaospy) (3.8.0)\n",
      "Defaulting to user installation because normal site-packages is not writeable\n",
      "Requirement already satisfied: numpy in c:\\users\\fhassani\\appdata\\roaming\\python\\python39\\site-packages (2.0.2)\n",
      "Defaulting to user installation because normal site-packages is not writeable\n",
      "Requirement already satisfied: numpoly in c:\\users\\fhassani\\appdata\\roaming\\python\\python39\\site-packages (1.3.6)\n",
      "Requirement already satisfied: chaospy in c:\\users\\fhassani\\appdata\\roaming\\python\\python39\\site-packages (4.3.17)\n",
      "Requirement already satisfied: importlib-metadata in c:\\tools\\anaconda3\\lib\\site-packages (from numpoly) (4.11.3)\n",
      "Requirement already satisfied: numpy>=2.0 in c:\\users\\fhassani\\appdata\\roaming\\python\\python39\\site-packages (from numpoly) (2.0.2)\n",
      "Requirement already satisfied: setuptools>=40.9.0 in c:\\tools\\anaconda3\\lib\\site-packages (from numpoly) (63.4.1)\n",
      "Requirement already satisfied: scipy in c:\\users\\fhassani\\appdata\\roaming\\python\\python39\\site-packages (from chaospy) (1.13.1)\n",
      "Requirement already satisfied: zipp>=0.5 in c:\\tools\\anaconda3\\lib\\site-packages (from importlib-metadata->numpoly) (3.8.0)\n"
     ]
    }
   ],
   "source": [
    "#!pip install chaospy\n",
    "#!pip install numpy\n",
    "#!pip install --tupgrade numpoly chaospy\n",
    "#!pip uninstall openpyxl\n",
    "#!pip install openpyxl\n",
    "\n",
    "#!pip uninstall numpy\n",
    "#!pip install numpy==1.20"
   ]
  },
  {
   "cell_type": "code",
   "execution_count": 1,
   "id": "b97d4094",
   "metadata": {},
   "outputs": [],
   "source": [
    "from scipy.io import loadmat\n",
    "import spgl1 as spg\n",
    "import numpy as np\n",
    "import pandas as pd\n",
    "from matplotlib import pyplot\n",
    "import chaospy as cp "
   ]
  },
  {
   "cell_type": "code",
   "execution_count": 41,
   "id": "f956af98",
   "metadata": {},
   "outputs": [
    {
     "name": "stdout",
     "output_type": "stream",
     "text": [
      "[[0.56527629 0.43942587 0.03358098 0.53883797]\n",
      " [0.51545407 0.5277173  0.01396743 1.01025584]\n",
      " [0.48130405 0.40711675 0.02986184 0.78446805]]\n",
      "[0.42788928 0.24770509 1.04569222]\n"
     ]
    },
    {
     "data": {
      "text/plain": [
       "(9999, 4)"
      ]
     },
     "execution_count": 41,
     "metadata": {},
     "output_type": "execute_result"
    }
   ],
   "source": [
    "dff = pd.read_excel('input_G2.xlsx')\n",
    "arr = dff.to_numpy()\n",
    "sample = arr.T\n",
    "# Stochastic dimension (number of variables sampled)\n",
    "dd = sample.shape[0]\n",
    "\n",
    "# Number of samples\n",
    "num_samp = sample.shape[1]\n",
    "\n",
    "sample=sample.T\n",
    "evaluation = pd.read_excel('stiffness_G2.xlsx')\n",
    "evaluation = np.reshape(evaluation, -1) \n",
    "print(sample[0:3,:])\n",
    "print(evaluation[0:3])\n",
    "sample.shape"
   ]
  },
  {
   "cell_type": "code",
   "execution_count": 42,
   "id": "24206155",
   "metadata": {},
   "outputs": [],
   "source": [
    "from sklearn.model_selection import train_test_split\n",
    "# split the data into training and testing sets\n",
    "X_train, X_test, y_train, y_test = train_test_split(sample, evaluation, test_size=0.3, random_state=42, shuffle=False)\n"
   ]
  },
  {
   "cell_type": "code",
   "execution_count": 43,
   "id": "b30138cb",
   "metadata": {},
   "outputs": [
    {
     "data": {
      "text/plain": [
       "array([[ 0.65334235, -0.60584825,  0.57242266, -0.94235024],\n",
       "       [ 0.15488868,  0.27732479, -0.73626481,  0.85965952],\n",
       "       [-0.1867702 , -0.92903407,  0.32426762, -0.00342146]])"
      ]
     },
     "execution_count": 43,
     "metadata": {},
     "output_type": "execute_result"
    }
   ],
   "source": [
    "# standardize the features\n",
    "from sklearn.preprocessing import MinMaxScaler\n",
    "scaler = MinMaxScaler((-1,1))\n",
    "X_train_scaled = scaler.fit_transform(X_train)\n",
    "X_test_scaled = scaler.transform(X_test)\n",
    "X_train_scaled[0:3,:]"
   ]
  },
  {
   "cell_type": "code",
   "execution_count": 44,
   "id": "e1df8735",
   "metadata": {},
   "outputs": [],
   "source": [
    "#distribution = cp.Iid(cp.Normal(0, 1), 2)\n",
    "distribution_l = cp.Uniform(-1, 1)\n",
    "distribution_h = cp.Uniform(-1, 1)\n",
    "distribution_t = cp.Uniform(-1, 1)\n",
    "distribution_theta = cp.Uniform(-1, 1)\n",
    "\n",
    "distribution_joint=cp.J(distribution_l,distribution_h,distribution_t,distribution_theta)\n"
   ]
  },
  {
   "cell_type": "code",
   "execution_count": 61,
   "id": "2e971c09",
   "metadata": {},
   "outputs": [],
   "source": [
    "# Choose polynomial order\n",
    "poly_order = 5\n",
    "\n",
    "# Construct PC expansion \n",
    "#poly_expansion = cp.orth_ttr(poly_order, dist)\n",
    "poly_expansion = cp.expansion.stieltjes(poly_order, distribution_joint)\n",
    "\n",
    "## Fit pc expansion to data. Chaospy default is least squares.\n",
    "model_appr_cp = cp.fit_regression(poly_expansion, X_train_scaled.T, y_train)"
   ]
  },
  {
   "cell_type": "code",
   "execution_count": 62,
   "id": "b15d517e",
   "metadata": {},
   "outputs": [
    {
     "name": "stdout",
     "output_type": "stream",
     "text": [
      "(6999, 126)\n",
      "(126, 126)\n",
      "(6999,)\n",
      "0.008412897120005786\n",
      "0.9998862772571767\n",
      "[2.82723316 0.47701439 0.54773212 ... 0.47632116 2.76149887 8.36238506]\n",
      "[2.82961245 0.47912121 0.54747761 ... 0.47905006 2.76253864 8.38448826]\n"
     ]
    }
   ],
   "source": [
    "# Calculate PC coefficients and compute validation error\n",
    "from sklearn.metrics import r2_score\n",
    "\n",
    "phi_1 = poly_expansion(*X_train_scaled.T).T\n",
    "print(phi_1.shape)\n",
    "ptp_1 = phi_1.T @ phi_1\n",
    "print(ptp_1.shape)\n",
    "pty_1 = phi_1.T @ y_train\n",
    "print(y_train.shape)\n",
    "c_hat_1 = np.linalg.inv(ptp_1) @ pty_1 \n",
    "\n",
    "# validation error : test for data after train_num\n",
    "phi_val_1 = poly_expansion(*X_test_scaled.T).T\n",
    "val_est_1 = phi_val_1 @ c_hat_1      #equivalent to: val_test=model_appr_cp(*sample[:,12000:]).T\n",
    "\n",
    "r2=r2_score(y_test, val_est_1)\n",
    "val_error_1 = np.linalg.norm(y_test - val_est_1)/np.linalg.norm(y_test) \n",
    "print(val_error_1)\n",
    "print(r2)\n",
    "print(val_est_1)\n",
    "print(y_test)"
   ]
  },
  {
   "cell_type": "code",
   "execution_count": 65,
   "id": "7495e617",
   "metadata": {},
   "outputs": [
    {
     "data": {
      "text/plain": [
       "array([4.73737581])"
      ]
     },
     "execution_count": 65,
     "metadata": {},
     "output_type": "execute_result"
    }
   ],
   "source": [
    "# TEST A RANDOM ARRAY\n",
    "# l=0.5, h=0.5 , t=0.06 , theta=0.6 ; note that t is outside train range\n",
    "test_array= np.array([0.5, 0.5, 0.06, 0.6]).reshape(1, -1)\n",
    "test_array=scaler.transform(test_array)\n",
    "test_array\n",
    "test_array=test_array.T\n",
    "test_array.shape\n",
    "\n",
    "val_test=model_appr_cp(*test_array).T\n",
    "val_test"
   ]
  },
  {
   "cell_type": "code",
   "execution_count": 73,
   "id": "a65b9b6f",
   "metadata": {},
   "outputs": [
    {
     "name": "stderr",
     "output_type": "stream",
     "text": [
      "C:\\Users\\fhassani\\AppData\\Local\\Temp\\ipykernel_9816\\4058963038.py:13: DeprecationWarning: `salib.sample.saltelli` will be removed in SALib 1.5.1 Please use `salib.sample.sobol`\n",
      "  param_values = saltelli.sample(problem, 10024, calc_second_order = True)\n"
     ]
    }
   ],
   "source": [
    "from SALib.sample import saltelli\n",
    "from SALib.analyze import sobol\n",
    "\n",
    "\n",
    "problem = {\n",
    "    'num_vars': 4,\n",
    "    'names': ['l','h','t','theta'],\n",
    "    'bounds': [[-1,1]*4]\n",
    "}\n",
    "\n",
    "#If `calc_second_order` is False, the resulting matrix has ``N * (D + 2)`` rows, \n",
    "#where ``D`` is the number of parameters. If `calc_second_order` is `True`, the resulting matrix has ``N * (2D + 2)`` rows.\n",
    "param_values = saltelli.sample(problem, 10024, calc_second_order = True)    \n"
   ]
  },
  {
   "cell_type": "code",
   "execution_count": 74,
   "id": "72b00f6e",
   "metadata": {},
   "outputs": [],
   "source": [
    "Y = np.zeros([param_values.shape[0]])\n",
    "Y = model_appr_cp(*param_values.T)    \n",
    "\n",
    "# Perform Sobol Analysis\n",
    "Si = sobol.analyze(problem, Y)     \n"
   ]
  },
  {
   "cell_type": "code",
   "execution_count": 75,
   "id": "d2cac42e",
   "metadata": {},
   "outputs": [
    {
     "name": "stderr",
     "output_type": "stream",
     "text": [
      "C:\\Users\\fhassani\\AppData\\Roaming\\Python\\Python39\\site-packages\\SALib\\util\\__init__.py:274: FutureWarning: unique with argument that is not not a Series, Index, ExtensionArray, or np.ndarray is deprecated and will raise in a future version.\n",
      "  names = list(pd.unique(groups))\n"
     ]
    },
    {
     "name": "stdout",
     "output_type": "stream",
     "text": [
      "[             ST   ST_conf\n",
      "l      0.240856  0.017191\n",
      "h      0.007089  0.000611\n",
      "t      0.672729  0.042779\n",
      "theta  0.375402  0.023550,              S1   S1_conf\n",
      "l      0.107905  0.012912\n",
      "h      0.003315  0.002386\n",
      "t      0.430891  0.026992\n",
      "theta  0.183765  0.019887,                   S2   S2_conf\n",
      "(l, h)     -0.002726  0.023367\n",
      "(l, t)      0.072640  0.032648\n",
      "(l, theta)  0.030275  0.030551\n",
      "(h, t)      0.001053  0.004979\n",
      "(h, theta) -0.000883  0.005233\n",
      "(t, theta)  0.134957  0.050475]\n"
     ]
    },
    {
     "data": {
      "image/png": "[encoded data removed]",
      "text/plain": [
       "<Figure size 640x480 with 3 Axes>"
      ]
     },
     "metadata": {},
     "output_type": "display_data"
    }
   ],
   "source": [
    "# Turn output to a Pandas DataFrame for further analysis\n",
    "total_Si, first_Si, second_Si = Si.to_df()\n",
    "Si.plot()\n",
    "print(Si.to_df())"
   ]
  },
  {
   "cell_type": "code",
   "execution_count": null,
   "id": "45a4aad6",
   "metadata": {},
   "outputs": [],
   "source": []
  }
 ],
 "metadata": {
  "kernelspec": {
   "display_name": "Python 3 (ipykernel)",
   "language": "python",
   "name": "python3"
  },
  "language_info": {
   "codemirror_mode": {
    "name": "ipython",
    "version": 3
   },
   "file_extension": ".py",
   "mimetype": "text/x-python",
   "name": "python",
   "nbconvert_exporter": "python",
   "pygments_lexer": "ipython3",
   "version": "3.9.13"
  }
 },
 "nbformat": 4,
 "nbformat_minor": 5
}
